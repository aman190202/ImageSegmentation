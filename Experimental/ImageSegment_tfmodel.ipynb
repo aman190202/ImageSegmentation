{
 "cells": [
  {
   "cell_type": "code",
   "execution_count": 16,
   "metadata": {},
   "outputs": [],
   "source": [
    "import io\n",
    "import numpy as np\n",
    "import requests\n",
    "import matplotlib.pyplot as plt\n",
    "import tensorflow as tf\n",
    "import tensorflow_hub as hub\n",
    "import cv2\n",
    "import os\n",
    "from PIL import Image as PILImage"
   ]
  },
  {
   "cell_type": "code",
   "execution_count": 17,
   "metadata": {},
   "outputs": [],
   "source": [
    "IMAGE_WIDTH = 512\n",
    "IMAGE_HEIGHT = 512\n",
    "\n",
    "# Download the model from Tensorflow Hub.\n",
    "keras_layer = hub.KerasLayer('weights/1')\n",
    "model = tf.keras.Sequential([keras_layer])\n",
    "model.build([None, IMAGE_WIDTH, IMAGE_HEIGHT, 3])"
   ]
  },
  {
   "cell_type": "code",
   "execution_count": 18,
   "metadata": {},
   "outputs": [],
   "source": [
    "location= \"IMG_9296.mp4\" # Location of the video\n",
    "save_as= 'callmeby.mp4'           # Name of the converted video"
   ]
  },
  {
   "cell_type": "code",
   "execution_count": 19,
   "metadata": {},
   "outputs": [],
   "source": [
    "cam = cv2.VideoCapture(location) \n",
    "try:\n",
    "\tif not os.path.exists('tmp'):\n",
    "\t\tos.makedirs('tmp')\n",
    "except OSError:\n",
    "\tprint ('Error: Creating directory of data')\n",
    "\n",
    "currentframe = 0\n",
    "while(True):\n",
    "\tret,frame = cam.read()\n",
    "\tif ret:\n",
    "\t\tname = 'tmp/'+ str(currentframe) + '.jpg'\n",
    "\t\tcv2.imwrite(name, frame)\n",
    "\t\tcurrentframe += 1\n",
    "\telse:\n",
    "\t\tbreak\n",
    "cam.release()\n",
    "cv2.destroyAllWindows()"
   ]
  },
  {
   "cell_type": "code",
   "execution_count": 20,
   "metadata": {},
   "outputs": [
    {
     "name": "stderr",
     "output_type": "stream",
     "text": [
      "/var/folders/0_/jlz3w3sd0rvgpp49r0h93j_c0000gn/T/ipykernel_88328/829579890.py:11: DeprecationWarning: `np.float` is a deprecated alias for the builtin `float`. To silence this warning, use `float` by itself. Doing this will not modify any behavior and is safe. If you specifically wanted the numpy scalar type, use `np.float64` here.\n",
      "Deprecated in NumPy 1.20; for more details and guidance: https://numpy.org/devdocs/release/1.20.0-notes.html#deprecations\n",
      "  input_data = input_data.astype(np.float) / 128 - 0.5\n",
      "2022-08-14 16:17:47.081112: I tensorflow/core/grappler/optimizers/custom_graph_optimizer_registry.cc:112] Plugin optimizer for device_type GPU is enabled.\n"
     ]
    }
   ],
   "source": [
    "directory = 'tmp'\n",
    "for filename in sorted(os.listdir(directory)):\n",
    "    f = os.path.join(directory, filename)\n",
    "    # checking if it is a file\n",
    "    if os.path.isfile(f):\n",
    "        image = PILImage.open(f).convert('RGB')\n",
    "        min_dim = min(image.size[0], image.size[1])\n",
    "        image = image.resize((IMAGE_WIDTH * image.size[0] // min_dim, IMAGE_HEIGHT * image.size[1] // min_dim))\n",
    "        input_data = np.expand_dims(image, axis=0)\n",
    "        input_data = input_data[:, :IMAGE_WIDTH,:IMAGE_HEIGHT, :]\n",
    "        input_data = input_data.astype(np.float) / 128 - 0.5\n",
    "        output_data = model(input_data)\n",
    "        assert(output_data.numpy().shape == (1, 512, 512))\n",
    "        arr=np.squeeze(output_data)\n",
    "        plt.imshow(arr)\n",
    "        plt.axis('off')\n",
    "        plt.savefig(f)\n",
    "        plt.close()"
   ]
  },
  {
   "cell_type": "code",
   "execution_count": 21,
   "metadata": {},
   "outputs": [
    {
     "name": "stderr",
     "output_type": "stream",
     "text": [
      "OpenCV: FFMPEG: tag 0x5634504d/'MP4V' is not supported with codec id 12 and format 'mp4 / MP4 (MPEG-4 Part 14)'\n",
      "OpenCV: FFMPEG: fallback to use tag 0x7634706d/'mp4v'\n"
     ]
    }
   ],
   "source": [
    "img_array = []\n",
    "dir_len=len([name for name in os.listdir('tmp') if os.path.isfile(os.path.join('tmp', name))])\n",
    "for i in range(0,dir_len):\n",
    "    img = cv2.imread('tmp/'+str(i)+'.jpg')\n",
    "    height, width, layers = img.shape\n",
    "    size = (width,height)\n",
    "    img_array.append(img)\n",
    "out = cv2.VideoWriter(save_as,cv2.VideoWriter_fourcc(*'MP4V'), 30, size )\n",
    "for i in range(len(img_array)):\n",
    "    out.write(img_array[i])\n",
    "out.release()"
   ]
  }
 ],
 "metadata": {
  "kernelspec": {
   "display_name": "Python 3.9.7 ('base')",
   "language": "python",
   "name": "python3"
  },
  "language_info": {
   "codemirror_mode": {
    "name": "ipython",
    "version": 3
   },
   "file_extension": ".py",
   "mimetype": "text/x-python",
   "name": "python",
   "nbconvert_exporter": "python",
   "pygments_lexer": "ipython3",
   "version": "3.9.7"
  },
  "orig_nbformat": 4,
  "vscode": {
   "interpreter": {
    "hash": "47c3d642174270f224528408ce260e326450f5d01584567606deb2c7196ef238"
   }
  }
 },
 "nbformat": 4,
 "nbformat_minor": 2
}
